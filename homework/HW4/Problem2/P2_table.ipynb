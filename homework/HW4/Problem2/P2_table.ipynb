{
 "cells": [
  {
   "cell_type": "code",
   "execution_count": null,
   "metadata": {
    "cell_id": "00000-7b455aee-5a39-4c95-97d9-5b509f638fbe",
    "tags": []
   },
   "outputs": [],
   "source": [
    "# Insert code here."
   ]
  },
  {
   "cell_type": "markdown",
   "metadata": {
    "cell_id": "00004-76cbb8d6-0118-4ea7-ba58-2f075331a0fe",
    "tags": []
   },
   "source": [
    "For $f(x,y)=w_{out}^{T}z \\left( W \\begin{bmatrix} x \\\\ y\\end{bmatrix} \\right)$, where $w_{out}= \\begin{bmatrix} w_{out,1} \\\\ w_{out,2} \\end{bmatrix} $, $W=\\begin{bmatrix} w_{11} & w_{12} \\\\ w_{21} & w_{22} \\end{bmatrix}$\n",
    "\n",
    "\n",
    "| Trace | Elementary <br /> Function | &emsp; &emsp; &emsp; &emsp; &emsp; &emsp; &emsp; &emsp;  Current Value &emsp; &emsp; &emsp; &emsp; &emsp; &emsp; &emsp; | Elementary <br /> Function <br /> Derivative | &emsp; &emsp; &emsp; &emsp; &emsp; &emsp; &emsp; &emsp; &emsp; &emsp; &emsp; &emsp; $\\nabla_x$ Value &emsp; &emsp; &emsp; &emsp; &emsp; &emsp; &emsp; &emsp; &emsp; &emsp; &emsp; | &emsp; &emsp; &emsp; &emsp; &emsp; &emsp; &emsp; &emsp; &emsp; &emsp; &emsp; &emsp; $\\nabla_y$ Value &emsp; &emsp; &emsp; &emsp; &emsp; &emsp; &emsp; &emsp; &emsp; &emsp; &emsp; &emsp; | \n",
    "| :------: | :-------------:| ---------------------------------- | :-----------------------: | :----------: | : ------: |\n",
    "| $x_{1}$  | $x_{1}$        | $x$                           | $\\dot{x_1}$           | $1$                    | $0$ |\n",
    "| $x_{2}$  | $x_{2}$        | $y$                           | $\\dot{x_2}$           | $0$                    | $1$ |\n",
    "| $v_{1}$  | $w_{11}x_1$    | $w_{11}x$                     | $w_{11}\\dot{x_1}$     | $w_{11}$               | $0$ |\n",
    "| $v_{2}$  | $x_{21}x_1$    | $w_{21}x$                     | $w_{21}\\dot{x_1}$     | $w_{21}$               | $0$ |\n",
    "| $v_{3}$  | $w_{12}x_2$    | $w_{12}y$                     | $w_{12}\\dot{x_2}$     | $0$                    | $w_{12}$ |\n",
    "| $v_{4}$  | $w_{22}x_2$    | $w_{22}y$                     | $w_{22}\\dot{x_2}$     | $0$                    | $w_{22}$ |\n",
    "| $v_{5}$  | $v_1+v_3$      | $w_{11}x+w_{12}y$             | $\\dot{v_1}+\\dot{v_3}$ | $w_{11}$               | $w_{12}$ |\n",
    "| $v_{6}$  | $v_2+v_4$      | $w_{21}x+w_{22}y$             | $\\dot{v_2}+\\dot{v_4}$ | $w_{21}$               | $w_{22}$ |\n",
    "| $v_{7}$  | $z(v_5)$       | $z(w_{11}x+w_{12}y)$          | $z'(v_5)\\dot{v_5}$    | $z'(w_{11}x+w_{12}y)w_{11}$ | $z'(w_{11}x+w_{12}y)w_{12}$ |\n",
    "| $v_{8}$  | $z(v_6)$       | $z(w_{21}x+w_{22}y)$          | $z'(v_6)\\dot{v_6}$    | $z'(w_{21}x+w_{22}y)w_{21}$ | $z'(w_{21}x+w_{22}y)w_{22}$ |\n",
    "| $v_{9}$  | $w_{out,1}v_7$ | $w_{out,1}z(w_{11}x+w_{12}y)$ | $w_{out,1}\\dot{v_7}$  | $w_{out,1}z'(w_{11}x+w_{12}y)w_{11}$ | $w_{out,1}z'(w_{11}x+w_{12}y)w_{12}$ |\n",
    "| $v_{10}$ | $w_{out,2}v_8$ | $w_{out,2}z(w_{21}x+w_{22}y)$ | $w_{out,2}\\dot{v_8}$  | $w_{out,2}z'(w_{21}x+w_{22}y)w_{21}$ | $w_{out,2}z'(w_{21}x+w_{22}y)w_{22}$ |\n",
    "| $f$      | $v_9+v_{10}$   | $w_{out,1}z(w_{11}x+w_{12}y)+w_{out,2}z(w_{21}x+w_{22}y)$ | $\\dot{v_9}+\\dot{v_{10}}$ | $w_{out,1}z'(w_{11}x+w_{12}y)w_{11}+w_{out,2}z'(w_{21}x+w_{22}y)w_{21}$ | $w_{out,1}z'(w_{11}x+w_{12}y)w_{12}+w_{out,2}z'(w_{21}x+w_{22}y)w_{22}$ |\n",
    "\n"
   ]
  },
  {
   "cell_type": "code",
   "execution_count": null,
   "metadata": {},
   "outputs": [],
   "source": []
  }
 ],
 "metadata": {
  "deepnote_execution_queue": [],
  "deepnote_notebook_id": "0e8bf968-ce24-433f-b509-f0dec9ab2689",
  "kernelspec": {
   "display_name": "Python 3",
   "language": "python",
   "name": "python3"
  },
  "language_info": {
   "codemirror_mode": {
    "name": "ipython",
    "version": 3
   },
   "file_extension": ".py",
   "mimetype": "text/x-python",
   "name": "python",
   "nbconvert_exporter": "python",
   "pygments_lexer": "ipython3",
   "version": "3.6.8"
  }
 },
 "nbformat": 4,
 "nbformat_minor": 2
}
