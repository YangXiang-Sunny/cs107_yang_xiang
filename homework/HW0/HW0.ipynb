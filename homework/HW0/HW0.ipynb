{
 "cells": [
  {
   "cell_type": "markdown",
   "metadata": {
    "colab_type": "text",
    "id": "ebAwF87OWg_r"
   },
   "source": [
    "# Homework 0\n",
    "This assignment will not be graded. It is provided for you to gauge your prerequisite knowledge for this course. You are not required to turn it in. We recommend that you complete it before the beginning of the semester and no later than after the first week of class (September 9th). This will give you ample time to decide if you are ready to take this course.\n",
    "\n",
    "### Topics\n",
    "* [Problem 1](#p1): Github Setup\n",
    "* [Problem 2](#p2): Sequences and Series\n",
    "* [Problem 3](#p3): Basic Calculus"
   ]
  },
  {
   "cell_type": "markdown",
   "metadata": {},
   "source": [
    "---\n",
    "<a id='p1'></a>\n",
    "## Problem 1: Github Setup\n",
    "\n",
    "If you don't already have one, please create a github account: https://github.com.\n",
    "\n",
    "**Note.** Please make sure you have a Github Pro account. Request for one here: https://education.github.com/discount_requests/new."
   ]
  },
  {
   "cell_type": "markdown",
   "metadata": {
    "colab_type": "text",
    "id": "Tr3YaDAVgZlF"
   },
   "source": [
    "---\n",
    "<a id='p2'></a>\n",
    "## Problem 2: Basic Python\n",
    "\n",
    "### Sequences and Series\n",
    "\n",
    "Many mathematical and physical constants can be expressed as infinite sums, infinite products, and limits of recursion relationships.  In this problem, we will consider representations for two very famous numbers, $\\pi$ and $\\varphi$.\n",
    "\n",
    "### $\\pi$ \n",
    "\n",
    "One way to represent $\\pi$ is with the infinite sum:\n",
    "\\begin{align*}\n",
    "  \\frac{\\pi^{2}}{6} = \\sum_{n=1}^{\\infty}{\\frac{1}{n^{2}}}.\n",
    "\\end{align*}\n",
    "\n",
    "### $\\varphi$\n",
    "\n",
    "The golden ratio $\\varphi$ is the positive root of the quadratic equation $x^{2} - x - 1 = 0$.  It's exact value is $\\varphi = \\dfrac{1}{2}\\left(1 + \\sqrt{5}\\right) \\approx 1.608033\\ldots$.\n",
    "\n",
    "Interestingly, it can also be expressed as the limit of the ratio of consecutive terms in the Fibonacci sequance.  The $n^{\\textrm{th}}$ term of the Fibonacci sequence is given by:\n",
    "<br><br>\n",
    "\\begin{align*}\n",
    "  F_{n} = F_{n-1} + F_{n-2}, \\quad n > 2\n",
    "\\end{align*}\n",
    "where $F_{1} = F_{2} = 1$ are seed values.  For example, the ratio $F_{7} / F_{6} = 1.625$.\n",
    "\n",
    "<br><br>\n",
    "In this problem, you will write a function to compute $\\pi$ and $\\varphi$ from the representations just described."
   ]
  },
  {
   "cell_type": "markdown",
   "metadata": {
    "colab_type": "text",
    "id": "FDz5BG87gk62"
   },
   "source": [
    "<a id='p2.1'></a>\n",
    "### Part 2.1\n",
    "\n",
    "Write a function called `numbers` that uses the infinite series representation to calculate $\\pi$ and the ratio of consecutive Fibonacci numbers to calculate $\\varphi$.\n",
    "\n",
    "**Requirements:**\n",
    "* The function should accept two arguments\n",
    "  - Argument 1:  A `string` indicating which number to calculate.  The string can be either \"pi\" or \"golden\".\n",
    "  - Argument 2:  An `integer` to specify how many terms to use in the approximation.  For example, if the integer is $10$ then the first $10$ terms of the sum for $\\pi$ will be used.\n",
    "* Depending on the arguments, the function will calculate either $\\pi$ or $\\varphi$.\n",
    "* If the user supplies an unrecognized argument, then the function should fail with an informative error message.\n",
    "* The function should return a `float` which represents either $\\pi$ or $\\varphi$.\n",
    "\n",
    "**Hint:**\n",
    "* After $10$ terms you should find $\\pi \\approx 3.039507\\ldots$ and $\\varphi \\approx 1.617647\\ldots$."
   ]
  },
  {
   "cell_type": "code",
   "execution_count": 1,
   "metadata": {},
   "outputs": [],
   "source": [
    "from math import sqrt\n",
    "def numbers(name:str, n:int):\n",
    "    assert name==\"pi\" or name==\"golden\"\n",
    "    assert type(n) == int\n",
    "    \n",
    "    if name == 'pi':\n",
    "        res = 0\n",
    "        for i in range(1,n):\n",
    "            res += float(1)/(i**2)\n",
    "        res = sqrt(6*res)\n",
    "        return res\n",
    "    \n",
    "    if name == 'golden':\n",
    "        fib = [1,1]\n",
    "        assert n>1\n",
    "        for i in range(1,n-1):\n",
    "            fib.append(fib[i]+fib[i-1])\n",
    "        return (fib[n-1]/fib[n-2])"
   ]
  },
  {
   "cell_type": "code",
   "execution_count": 2,
   "metadata": {},
   "outputs": [
    {
     "name": "stdout",
     "output_type": "stream",
     "text": [
      "1.6176470588235294\n",
      "3.0395075895610533\n"
     ]
    }
   ],
   "source": [
    "print(numbers(\"golden\",10))\n",
    "print(numbers(\"pi\",10))"
   ]
  },
  {
   "cell_type": "markdown",
   "metadata": {
    "colab_type": "text",
    "id": "_QrJ1iGdgp4q"
   },
   "source": [
    "<a id='p2.2'></a>\n",
    "### Part 2.2\n",
    "\n",
    "Calculate $\\pi$ and $\\varphi$ using a variety of different terms in the expansion or recursion.\n",
    "\n",
    "**Requirements:**\n",
    "* Create a `python` `list` of integers.  Each integer represents the number of terms in the series representation or the recursion relation.\n",
    "* The list can be as big as you want, but should ascribe to the following:\n",
    "  - For the $\\pi$ expansion, you should use at least $15$ terms and go up to at least $500$.\n",
    "  - For the $\\varphi$ recursion, you should use the integers up to $10$.  If you go too high, you will get an overflow.\n",
    "* Iterate over the `list` and calculate $\\pi$ and $\\varphi$ at each item.\n",
    "* Store the results in a list."
   ]
  },
  {
   "cell_type": "code",
   "execution_count": 3,
   "metadata": {},
   "outputs": [],
   "source": [
    "pi_num = list(range(2,200,10))\n",
    "golden_num = list(range(2,20))\n",
    "pi_list = [numbers(\"pi\",x) for x in pi_num]\n",
    "golden_list = [numbers(\"golden\",x) for x in golden_num]"
   ]
  },
  {
   "cell_type": "markdown",
   "metadata": {
    "colab_type": "text",
    "id": "1YI4lELDgupH"
   },
   "source": [
    "<a id='p2.3'></a>\n",
    "### Part 2.3\n",
    "\n",
    "Plot the approximate values of $\\pi$ and $\\varphi$ as a function of the number of terms.\n",
    "\n",
    "**Requirements:**\n",
    "* Make two separate plots: one for $\\pi$ and one for $\\varphi$.\n",
    "* On each figure, plot the true value of $\\pi$ and $\\varphi$ as a horizontal line.\n",
    "\n",
    "**Hints:**\n",
    "* You may use `numpy` to get the true value.\n",
    "* Your figure might look something like this:\n",
    "\n",
    "![text](../fig/piandphi.png)"
   ]
  },
  {
   "cell_type": "code",
   "execution_count": 4,
   "metadata": {},
   "outputs": [],
   "source": [
    "import matplotlib.pyplot as plt\n",
    "import numpy as np"
   ]
  },
  {
   "cell_type": "code",
   "execution_count": 5,
   "metadata": {},
   "outputs": [
    {
     "data": {
      "image/png": "[encoded data removed]",
      "text/plain": [
       "<Figure size 432x288 with 1 Axes>"
      ]
     },
     "metadata": {
      "needs_background": "light"
     },
     "output_type": "display_data"
    }
   ],
   "source": [
    "plt.plot(pi_num,pi_list)\n",
    "plt.title(\"$\\pi$\")\n",
    "plt.axhline(np.pi,color = \"red\")\n",
    "plt.show()"
   ]
  },
  {
   "cell_type": "code",
   "execution_count": 6,
   "metadata": {},
   "outputs": [
    {
     "data": {
      "image/png": "[encoded data removed]",
      "text/plain": [
       "<Figure size 432x288 with 1 Axes>"
      ]
     },
     "metadata": {
      "needs_background": "light"
     },
     "output_type": "display_data"
    }
   ],
   "source": [
    "plt.plot(golden_num,golden_list)\n",
    "plt.title(\"$\\phi$\")\n",
    "phi = (sqrt(5)+1)/2\n",
    "plt.axhline(phi,color = \"red\")\n",
    "plt.show()"
   ]
  },
  {
   "cell_type": "markdown",
   "metadata": {},
   "source": [
    "---\n",
    "<a id='p3'></a>\n",
    "## Problem 3: Basic Calculus\n",
    "The final project for this course is to build a software library for automatic differentiation. Please brush up on the following concepts and techniques:\n",
    "* Derivatives of the usual functions:\n",
    "  * polynomials\n",
    "  * trigonometric functions --- $\\sin$, $\\cos$, $\\tan$, $\\sec$, $\\csc$\n",
    "  * exponentials --- $e^{x}$, $a^{x}$ ($a$ some constant), $x^y$ (both $x$ and $y$ are variables)\n",
    "  * algebraic functions --- $\\sqrt{x}$, $x^{p}$ where $p$ is not an integer, $\\ldots$\n",
    "* Chain rule in 1 dimension\n",
    "* Chain rule in 2 dimensions\n",
    "* Chain rule in many dimensions\n",
    "\n",
    "**Important:** The chain rule will be reviewed in lecture. The important thing is that you are comfortable with derivatives and the basic procedures."
   ]
  }
 ],
 "metadata": {
  "colab": {
   "collapsed_sections": [
    "mwKyvO1tWhAY",
    "IxI1NjQdWhA0"
   ],
   "default_view": {},
   "name": "IACS_HW0_2018.ipynb",
   "provenance": [],
   "version": "0.3.2",
   "views": {}
  },
  "kernelspec": {
   "display_name": "Python 3",
   "language": "python",
   "name": "python3"
  },
  "language_info": {
   "codemirror_mode": {
    "name": "ipython",
    "version": 3
   },
   "file_extension": ".py",
   "mimetype": "text/x-python",
   "name": "python",
   "nbconvert_exporter": "python",
   "pygments_lexer": "ipython3",
   "version": "3.6.8"
  }
 },
 "nbformat": 4,
 "nbformat_minor": 1
}
